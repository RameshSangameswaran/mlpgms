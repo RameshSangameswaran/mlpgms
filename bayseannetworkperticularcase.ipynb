{
 "cells": [
  {
   "cell_type": "code",
   "execution_count": 1,
   "metadata": {},
   "outputs": [
    {
     "data": {
      "text/plain": [
       "[]"
      ]
     },
     "execution_count": 1,
     "metadata": {},
     "output_type": "execute_result"
    }
   ],
   "source": [
    "# Starting with defining the network structure\n",
    "from pgmpy.models import BayesianModel\n",
    "cancer_model = BayesianModel([('Pollution', 'Cancer'),\n",
    "('Smoker', 'Cancer'),\n",
    "('Cancer', 'Xray'),\n",
    "('Cancer', 'Dyspnoea')])\n",
    "cancer_model.nodes()\n",
    "cancer_model.edges()\n",
    "cancer_model.get_cpds()"
   ]
  },
  {
   "cell_type": "code",
   "execution_count": 2,
   "metadata": {},
   "outputs": [],
   "source": [
    "# Now defining the parameters.\n",
    "from pgmpy.factors.discrete import TabularCPD\n",
    "cpd_poll = TabularCPD(variable='Pollution', variable_card=2,\n",
    "values=[[0.9], [0.1]])\n",
    "cpd_smoke = TabularCPD(variable='Smoker', variable_card=2,\n",
    "values=[[0.3], [0.7]])\n",
    "cpd_cancer = TabularCPD(variable='Cancer', variable_card=2,\n",
    "values=[[0.03, 0.05, 0.001, 0.02],\n",
    "[0.97, 0.95, 0.999, 0.98]],\n",
    "evidence=['Smoker', 'Pollution'],\n",
    "evidence_card=[2, 2])\n",
    "cpd_xray = TabularCPD(variable='Xray', variable_card=2,\n",
    "values=[[0.9, 0.2], [0.1, 0.8]],\n",
    "evidence=['Cancer'], evidence_card=[2])\n",
    "cpd_dysp = TabularCPD(variable='Dyspnoea', variable_card=2,\n",
    "values=[[0.65, 0.3], [0.35, 0.7]],\n",
    "evidence=['Cancer'], evidence_card=[2])"
   ]
  },
  {
   "cell_type": "code",
   "execution_count": 3,
   "metadata": {},
   "outputs": [
    {
     "name": "stdout",
     "output_type": "stream",
     "text": [
      "+-------------+-----+\n",
      "| Pollution_0 | 0.9 |\n",
      "+-------------+-----+\n",
      "| Pollution_1 | 0.1 |\n",
      "+-------------+-----+\n"
     ]
    }
   ],
   "source": [
    "# Associating the parameters with the model structure.\n",
    "cancer_model.add_cpds(cpd_poll, cpd_smoke, cpd_cancer, cpd_xray, cpd_dysp)\n",
    "# Checking if the cpds are valid for the model.\n",
    "cancer_model.check_model()\n",
    "# Doing some simple queries on the network\n",
    "cancer_model.is_active_trail('Pollution', 'Smoker')\n",
    "cancer_model.is_active_trail('Pollution', 'Smoker', observed=['Cancer'])\n",
    "cancer_model.get_cpds()\n",
    "print(cancer_model.get_cpds('Pollution'))"
   ]
  },
  {
   "cell_type": "code",
   "execution_count": 4,
   "metadata": {},
   "outputs": [
    {
     "name": "stdout",
     "output_type": "stream",
     "text": [
      "+----------+-----+\n",
      "| Smoker_0 | 0.3 |\n",
      "+----------+-----+\n",
      "| Smoker_1 | 0.7 |\n",
      "+----------+-----+\n",
      "+--------+----------+----------+\n",
      "| Cancer | Cancer_0 | Cancer_1 |\n",
      "+--------+----------+----------+\n",
      "| Xray_0 | 0.9      | 0.2      |\n",
      "+--------+----------+----------+\n",
      "| Xray_1 | 0.1      | 0.8      |\n",
      "+--------+----------+----------+\n",
      "+------------+----------+----------+\n",
      "| Cancer     | Cancer_0 | Cancer_1 |\n",
      "+------------+----------+----------+\n",
      "| Dyspnoea_0 | 0.65     | 0.3      |\n",
      "+------------+----------+----------+\n",
      "| Dyspnoea_1 | 0.35     | 0.7      |\n",
      "+------------+----------+----------+\n",
      "+-----------+-------------+-------------+-------------+-------------+\n",
      "| Smoker    | Smoker_0    | Smoker_0    | Smoker_1    | Smoker_1    |\n",
      "+-----------+-------------+-------------+-------------+-------------+\n",
      "| Pollution | Pollution_0 | Pollution_1 | Pollution_0 | Pollution_1 |\n",
      "+-----------+-------------+-------------+-------------+-------------+\n",
      "| Cancer_0  | 0.03        | 0.05        | 0.001       | 0.02        |\n",
      "+-----------+-------------+-------------+-------------+-------------+\n",
      "| Cancer_1  | 0.97        | 0.95        | 0.999       | 0.98        |\n",
      "+-----------+-------------+-------------+-------------+-------------+\n"
     ]
    }
   ],
   "source": [
    "print(cancer_model.get_cpds('Smoker'))\n",
    "print(cancer_model.get_cpds('Xray'))\n",
    "print(cancer_model.get_cpds('Dyspnoea'))\n",
    "print(cancer_model.get_cpds('Cancer'))"
   ]
  },
  {
   "cell_type": "code",
   "execution_count": 5,
   "metadata": {},
   "outputs": [
    {
     "data": {
      "text/plain": [
       "(Pollution _|_ Smoker)\n",
       "(Pollution _|_ Xray, Dyspnoea | Cancer)\n",
       "(Pollution _|_ Xray, Dyspnoea | Smoker, Cancer)\n",
       "(Pollution _|_ Dyspnoea | Xray, Cancer)\n",
       "(Pollution _|_ Xray | Dyspnoea, Cancer)\n",
       "(Pollution _|_ Dyspnoea | Smoker, Xray, Cancer)\n",
       "(Pollution _|_ Xray | Smoker, Dyspnoea, Cancer)\n",
       "(Smoker _|_ Pollution)\n",
       "(Smoker _|_ Xray, Dyspnoea | Cancer)\n",
       "(Smoker _|_ Xray, Dyspnoea | Cancer, Pollution)\n",
       "(Smoker _|_ Dyspnoea | Xray, Cancer)\n",
       "(Smoker _|_ Xray | Dyspnoea, Cancer)\n",
       "(Smoker _|_ Dyspnoea | Cancer, Xray, Pollution)\n",
       "(Smoker _|_ Xray | Cancer, Dyspnoea, Pollution)\n",
       "(Xray _|_ Smoker, Dyspnoea, Pollution | Cancer)\n",
       "(Xray _|_ Smoker, Dyspnoea | Cancer, Pollution)\n",
       "(Xray _|_ Dyspnoea, Pollution | Smoker, Cancer)\n",
       "(Xray _|_ Smoker, Pollution | Dyspnoea, Cancer)\n",
       "(Xray _|_ Dyspnoea | Cancer, Smoker, Pollution)\n",
       "(Xray _|_ Smoker | Cancer, Dyspnoea, Pollution)\n",
       "(Xray _|_ Pollution | Smoker, Dyspnoea, Cancer)\n",
       "(Dyspnoea _|_ Smoker, Xray, Pollution | Cancer)\n",
       "(Dyspnoea _|_ Smoker, Xray | Cancer, Pollution)\n",
       "(Dyspnoea _|_ Xray, Pollution | Smoker, Cancer)\n",
       "(Dyspnoea _|_ Smoker, Pollution | Xray, Cancer)\n",
       "(Dyspnoea _|_ Xray | Cancer, Smoker, Pollution)\n",
       "(Dyspnoea _|_ Smoker | Cancer, Xray, Pollution)\n",
       "(Dyspnoea _|_ Pollution | Smoker, Xray, Cancer)"
      ]
     },
     "execution_count": 5,
     "metadata": {},
     "output_type": "execute_result"
    }
   ],
   "source": [
    "cancer_model.local_independencies('Xray')\n",
    "cancer_model.local_independencies('Pollution')\n",
    "cancer_model.local_independencies('Smoker')\n",
    "cancer_model.local_independencies('Dyspnoea')\n",
    "cancer_model.local_independencies('Cancer')\n",
    "cancer_model.get_independencies()"
   ]
  },
  {
   "cell_type": "code",
   "execution_count": 7,
   "metadata": {},
   "outputs": [
    {
     "name": "stdout",
     "output_type": "stream",
     "text": [
      "+----------+---------------+\n",
      "| Cancer   |   phi(Cancer) |\n",
      "+==========+===============+\n",
      "| Cancer_0 |        0.0029 |\n",
      "+----------+---------------+\n",
      "| Cancer_1 |        0.9971 |\n",
      "+----------+---------------+\n",
      "+----------+---------------+\n",
      "| Cancer   |   phi(Cancer) |\n",
      "+==========+===============+\n",
      "| Cancer_0 |        0.0029 |\n",
      "+----------+---------------+\n",
      "| Cancer_1 |        0.9971 |\n",
      "+----------+---------------+\n",
      "+----------+---------------+\n",
      "| Cancer   |   phi(Cancer) |\n",
      "+==========+===============+\n",
      "| Cancer_0 |        0.0200 |\n",
      "+----------+---------------+\n",
      "| Cancer_1 |        0.9800 |\n",
      "+----------+---------------+\n"
     ]
    },
    {
     "name": "stderr",
     "output_type": "stream",
     "text": [
      "/home/cmruuser/anaconda3/lib/python3.7/site-packages/pgmpy/factors/discrete/DiscreteFactor.py:598: FutureWarning: Using a non-tuple sequence for multidimensional indexing is deprecated; use `arr[tuple(seq)]` instead of `arr[seq]`. In the future this will be interpreted as an array index, `arr[np.array(seq)]`, which will result either in an error or a different result.\n",
      "  phi1.values = phi1.values[slice_]\n"
     ]
    }
   ],
   "source": [
    "# Doing exact inference using Variable Elimination\n",
    "from pgmpy.inference import VariableElimination\n",
    "cancer_infer = VariableElimination(cancer_model)\n",
    "# Computing the probability of bronc given smoke.\n",
    "q = cancer_infer.query(variables=['Cancer'], evidence={'Smoker': 1})\n",
    "print(q['Cancer'])\n",
    "# Computing the probability of bronc given smoke.\n",
    "q = cancer_infer.query(variables=['Cancer'], evidence={'Smoker': 1})\n",
    "print(q['Cancer'])\n",
    "# Computing the probability of bronc given smoke.\n",
    "q = cancer_infer.query(variables=['Cancer'], evidence={'Smoker': 1,'Pollution': 1})\n",
    "print(q['Cancer'])"
   ]
  },
  {
   "cell_type": "code",
   "execution_count": null,
   "metadata": {},
   "outputs": [],
   "source": []
  }
 ],
 "metadata": {
  "kernelspec": {
   "display_name": "Python 3",
   "language": "python",
   "name": "python3"
  },
  "language_info": {
   "codemirror_mode": {
    "name": "ipython",
    "version": 3
   },
   "file_extension": ".py",
   "mimetype": "text/x-python",
   "name": "python",
   "nbconvert_exporter": "python",
   "pygments_lexer": "ipython3",
   "version": "3.7.3"
  }
 },
 "nbformat": 4,
 "nbformat_minor": 2
}
